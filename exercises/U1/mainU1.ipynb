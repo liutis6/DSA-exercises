{
 "cells": [
  {
   "cell_type": "code",
   "execution_count": 2,
   "metadata": {},
   "outputs": [],
   "source": [
    "import pandas as pd\n",
    "import numpy as np\n",
    "import matplotlib.pyplot as plt\n",
    "from sklearn.metrics import accuracy_score, f1_score\n",
    "from sklearn.model_selection import train_test_split\n",
    "from sklearn.impute import SimpleImputer\n",
    "from sklearn.pipeline import Pipeline\n",
    "from sklearn.preprocessing import StandardScaler\n",
    "from sklearn.compose import ColumnTransformer\n",
    "from sklearn.metrics import classification_report"
   ]
  },
  {
   "cell_type": "markdown",
   "metadata": {},
   "source": [
    "# Description\n",
    "* Exercise for implementing various models from scikit.\n",
    "* Additional concepts tried: pipelines, grid search (for hyperparameters), voting ensambles/classifiers.\n",
    "* All results are displayed in a matplotlib bar chart.\n",
    "\n",
    "# Data description\n",
    "* Numerical data about the water features from various countries.\n",
    "* Class to predict - 'Potability' (binary)\n",
    "* https://www.kaggle.com/datasets/adityakadiwal/water-potability\n",
    "\n",
    "# Libraries used and their references\n",
    "- https://scikit-learn.org/stable/user_guide.html\n",
    "- https://pandas.pydata.org/docs/\n",
    "- https://matplotlib.org/stable/api/index"
   ]
  },
  {
   "cell_type": "code",
   "execution_count": 3,
   "metadata": {},
   "outputs": [],
   "source": [
    "seed = 42 # for reproducability\n",
    "df = pd.read_csv(\"..\\\\..\\\\data\\\\water_potability.csv\")\n",
    "\n",
    "# Values which we will use to predict\n",
    "xcols = ['ph', 'Hardness', 'Solids', 'Chloramines',\n",
    "        'Conductivity', 'Organic_carbon', 'Trihalomethanes',\n",
    "        'Turbidity', 'Sulfate']\n",
    "\n",
    "ycol = 'Potability' # The (binary) value to predict\n",
    "\n",
    "numeric_transformer = Pipeline([\n",
    "    ('imputer', SimpleImputer(strategy='mean')),\n",
    "    ('scaler', StandardScaler())\n",
    "])\n",
    "\n",
    "# categorical_transformer = Pipeline([\n",
    "#     ('imputer', SimpleImputer(strategy='most_frequent'))\n",
    "# ])\n",
    "\n",
    "preprocessor = ColumnTransformer([\n",
    "    ('num', numeric_transformer, xcols)\n",
    "    #('cat', categorical_transformer, ycol)\n",
    "])\n",
    "\n",
    "# 70% - training data, 30% - leftover\n",
    "train, test0 = train_test_split(df, test_size=0.3, random_state=seed)\n",
    "# (from the 30%) 15% - validation data (for model tuning), 15% - testing data (final evaluation)\n",
    "val, test = train_test_split(test0, test_size=0.5, random_state=seed)\n",
    "\n",
    "all_names = []\n",
    "all_perf = {'Accuracy':[],\n",
    "            'F1 Score':[]}\n",
    "\n",
    "def make_pipe(model):\n",
    "    return Pipeline([\n",
    "        ('preproc', preprocessor),\n",
    "        ('class', model)\n",
    "    ])"
   ]
  },
  {
   "cell_type": "markdown",
   "metadata": {},
   "source": [
    "## Confusion matrix\n",
    " [\"correct guess of 0\"     \"0 missclassified as 1\"]  \n",
    " [\"1 missclassified as 0\"  \"correct guess of 1\"   ]\n",
    "\n",
    "## Accuracy\n",
    "- \"accuracy\" = \"correct predictions\" / \"total samples\"\n",
    "\n",
    "## F1 score - measure of the models accuracy that tells us how well\n",
    "- It is able to define the right class, as well as avoid making mistakes.\n",
    "- F1 = 2x [ (precision * recall) / (precision + recall) ]\n",
    "- T/F - True/False, P/N - False/Negative\n",
    "- Precision = TP / (TP + FP)\n",
    "- Recall    = TP / (TP + FN)\n",
    "- Ranges: 0-0.5 = \"sturggles to find 0\"\n",
    "-         0.7-1.0 = \"good balence of precision and recall\"\n",
    "\n",
    "## Classification report\n",
    "- support - count of actual cases of the class\n",
    "- macro avg - average of precision, recall and F1 without considering class imbalence'\n",
    "- weighted avg - macro avg BUT weighted by class sizes"
   ]
  },
  {
   "cell_type": "code",
   "execution_count": 4,
   "metadata": {},
   "outputs": [],
   "source": [
    "def train_and_display_stats(model, name, all_names, all_perf):\n",
    "    print(\"\\n\", name, \":\")\n",
    "    model.fit(train[xcols], train[ycol]) # trains the given model using training data\n",
    "    preds = model.predict(val[xcols]) # uses the trained model to make predictions on the validation set\n",
    "\n",
    "    #print(confusion_matrix(val[ycol], preds))\n",
    "    #print(\"Accuracy\", accuracy_score(val[ycol], preds))\n",
    "    #print(\"F1\", f1_score(val[ycol], preds, pos_label=0))\n",
    "    print(classification_report(val[ycol], preds))\n",
    "\n",
    "    all_names.append(name)\n",
    "    all_perf['Accuracy'].append(accuracy_score(val[ycol], preds))\n",
    "    all_perf['F1 Score'].append(f1_score(val[ycol], preds, pos_label=0))"
   ]
  },
  {
   "cell_type": "markdown",
   "metadata": {},
   "source": [
    "# Model training"
   ]
  },
  {
   "cell_type": "code",
   "execution_count": 5,
   "metadata": {},
   "outputs": [
    {
     "name": "stdout",
     "output_type": "stream",
     "text": [
      "\n",
      " Logistic Regression :\n",
      "              precision    recall  f1-score   support\n",
      "\n",
      "           0       0.64      0.50      0.56       310\n",
      "           1       0.37      0.51      0.43       181\n",
      "\n",
      "    accuracy                           0.50       491\n",
      "   macro avg       0.50      0.50      0.49       491\n",
      "weighted avg       0.54      0.50      0.51       491\n",
      "\n"
     ]
    }
   ],
   "source": [
    "# Logistic - determines a function that ranges from 0 to 1\n",
    "# When the given predictors are passed as the variables, they are applied to the function.\n",
    "# If the gotten value proceeds the selected threshold (0.5), then the value is selected.\n",
    "# 0 - from 0 to >0.5, 1 - from =0.5 to 1\n",
    "from sklearn.linear_model import LogisticRegression\n",
    "lr = make_pipe(LogisticRegression(intercept_scaling=0.5, max_iter=10000, class_weight='balanced', random_state=41))\n",
    "name = \"Logistic Regression\"\n",
    "train_and_display_stats(lr, name, all_names, all_perf)"
   ]
  },
  {
   "cell_type": "code",
   "execution_count": 6,
   "metadata": {},
   "outputs": [
    {
     "name": "stdout",
     "output_type": "stream",
     "text": [
      "\n",
      " Random forest classifier :\n",
      "              precision    recall  f1-score   support\n",
      "\n",
      "           0       0.69      0.87      0.77       310\n",
      "           1       0.61      0.34      0.44       181\n",
      "\n",
      "    accuracy                           0.68       491\n",
      "   macro avg       0.65      0.61      0.61       491\n",
      "weighted avg       0.66      0.68      0.65       491\n",
      "\n"
     ]
    }
   ],
   "source": [
    "# Random forest classifier\n",
    "from sklearn.ensemble import RandomForestClassifier\n",
    "rfc = make_pipe(RandomForestClassifier(random_state=seed))\n",
    "name = \"Random forest classifier\"\n",
    "train_and_display_stats(rfc, name, all_names, all_perf)"
   ]
  },
  {
   "cell_type": "code",
   "execution_count": 7,
   "metadata": {},
   "outputs": [
    {
     "name": "stdout",
     "output_type": "stream",
     "text": [
      "\n",
      " Decision tree classifier :\n",
      "              precision    recall  f1-score   support\n",
      "\n",
      "           0       0.64      0.99      0.78       310\n",
      "           1       0.75      0.07      0.12       181\n",
      "\n",
      "    accuracy                           0.65       491\n",
      "   macro avg       0.70      0.53      0.45       491\n",
      "weighted avg       0.68      0.65      0.54       491\n",
      "\n"
     ]
    }
   ],
   "source": [
    "# Decision tree classifier\n",
    "from sklearn.tree import DecisionTreeClassifier\n",
    "dtc = make_pipe(DecisionTreeClassifier(max_depth=3, min_samples_leaf=10, random_state=seed))\n",
    "name = \"Decision tree classifier\"\n",
    "train_and_display_stats(dtc, name, all_names, all_perf)"
   ]
  },
  {
   "cell_type": "code",
   "execution_count": 8,
   "metadata": {},
   "outputs": [
    {
     "name": "stdout",
     "output_type": "stream",
     "text": [
      "\n",
      " SVM - linear :\n",
      "              precision    recall  f1-score   support\n",
      "\n",
      "           0       0.62      0.55      0.59       310\n",
      "           1       0.36      0.43      0.39       181\n",
      "\n",
      "    accuracy                           0.51       491\n",
      "   macro avg       0.49      0.49      0.49       491\n",
      "weighted avg       0.53      0.51      0.51       491\n",
      "\n"
     ]
    }
   ],
   "source": [
    "# Support vector machine, linear kernel\n",
    "from sklearn.svm import SVC\n",
    "svc_linear = make_pipe(SVC(kernel='linear', C=1.0, class_weight='balanced', random_state=seed))\n",
    "name = \"SVM - linear\"\n",
    "train_and_display_stats(svc_linear, name, all_names, all_perf)"
   ]
  },
  {
   "cell_type": "code",
   "execution_count": 9,
   "metadata": {},
   "outputs": [
    {
     "name": "stdout",
     "output_type": "stream",
     "text": [
      "\n",
      " SVM - default (rbf) :\n"
     ]
    },
    {
     "name": "stdout",
     "output_type": "stream",
     "text": [
      "              precision    recall  f1-score   support\n",
      "\n",
      "           0       0.69      0.92      0.79       310\n",
      "           1       0.68      0.30      0.41       181\n",
      "\n",
      "    accuracy                           0.69       491\n",
      "   macro avg       0.68      0.61      0.60       491\n",
      "weighted avg       0.69      0.69      0.65       491\n",
      "\n"
     ]
    }
   ],
   "source": [
    "# Support vector machine, default (rbf) kernel\n",
    "svc_rbf = make_pipe(SVC(random_state=seed))\n",
    "name = \"SVM - default (rbf)\"\n",
    "train_and_display_stats(svc_rbf, name, all_names, all_perf)"
   ]
  },
  {
   "cell_type": "code",
   "execution_count": 10,
   "metadata": {},
   "outputs": [
    {
     "name": "stdout",
     "output_type": "stream",
     "text": [
      "\n",
      " SVM - non-linear (poly) kernel :\n",
      "              precision    recall  f1-score   support\n",
      "\n",
      "           0       0.64      0.97      0.77       310\n",
      "           1       0.52      0.06      0.11       181\n",
      "\n",
      "    accuracy                           0.63       491\n",
      "   macro avg       0.58      0.51      0.44       491\n",
      "weighted avg       0.60      0.63      0.53       491\n",
      "\n"
     ]
    }
   ],
   "source": [
    "# Support vector machine, non-linear (poly) kernel\n",
    "svc_poly = make_pipe(SVC(kernel='poly', degree=3, random_state=seed))\n",
    "name = \"SVM - non-linear (poly) kernel\"\n",
    "train_and_display_stats(svc_poly, name, all_names, all_perf)"
   ]
  },
  {
   "cell_type": "code",
   "execution_count": 11,
   "metadata": {},
   "outputs": [
    {
     "name": "stdout",
     "output_type": "stream",
     "text": [
      "\n",
      " Gaussian Naive Bayes :\n",
      "              precision    recall  f1-score   support\n",
      "\n",
      "           0       0.65      0.87      0.75       310\n",
      "           1       0.49      0.20      0.29       181\n",
      "\n",
      "    accuracy                           0.63       491\n",
      "   macro avg       0.57      0.54      0.52       491\n",
      "weighted avg       0.59      0.63      0.58       491\n",
      "\n"
     ]
    }
   ],
   "source": [
    "# Gaussian Naive Bayes\n",
    "from sklearn.naive_bayes import GaussianNB\n",
    "gnb = make_pipe(GaussianNB())\n",
    "name = \"Gaussian Naive Bayes\"\n",
    "train_and_display_stats(gnb, name, all_names, all_perf)"
   ]
  },
  {
   "cell_type": "code",
   "execution_count": 12,
   "metadata": {},
   "outputs": [
    {
     "name": "stdout",
     "output_type": "stream",
     "text": [
      "\n",
      " SVC found with GS :\n",
      "              precision    recall  f1-score   support\n",
      "\n",
      "           0       0.69      0.92      0.79       310\n",
      "           1       0.68      0.29      0.41       181\n",
      "\n",
      "    accuracy                           0.69       491\n",
      "   macro avg       0.68      0.61      0.60       491\n",
      "weighted avg       0.69      0.69      0.65       491\n",
      "\n"
     ]
    }
   ],
   "source": [
    "from sklearn.model_selection import GridSearchCV\n",
    "parameters = {'kernel':['rbf'],\n",
    "            'C':[0.1, 1, 10], 'gamma':[1, 0.1, 0.001, 0.0001]}\n",
    "name = \"SVC found with GS\"\n",
    "clf = make_pipe(GridSearchCV(SVC(), parameters))\n",
    "train_and_display_stats(clf, name, all_names, all_perf)"
   ]
  },
  {
   "cell_type": "code",
   "execution_count": 13,
   "metadata": {},
   "outputs": [
    {
     "name": "stdout",
     "output_type": "stream",
     "text": [
      "\n",
      " Voting classifier (hard) :\n",
      "              precision    recall  f1-score   support\n",
      "\n",
      "           0       0.69      0.94      0.80       310\n",
      "           1       0.73      0.27      0.40       181\n",
      "\n",
      "    accuracy                           0.69       491\n",
      "   macro avg       0.71      0.61      0.60       491\n",
      "weighted avg       0.70      0.69      0.65       491\n",
      "\n",
      "\n",
      " Voting classifier (soft) :\n",
      "              precision    recall  f1-score   support\n",
      "\n",
      "           0       0.69      0.94      0.79       310\n",
      "           1       0.72      0.28      0.40       181\n",
      "\n",
      "    accuracy                           0.69       491\n",
      "   macro avg       0.70      0.61      0.60       491\n",
      "weighted avg       0.70      0.69      0.65       491\n",
      "\n"
     ]
    }
   ],
   "source": [
    "from sklearn.ensemble import VotingClassifier\n",
    "# Hard voting - majority vote between each model\n",
    "est_list_hard = [\n",
    "    ('svc_rbf', SVC(random_state=seed)),\n",
    "\t('dtc', DecisionTreeClassifier(max_depth=3, min_samples_leaf=10, random_state=seed)),\n",
    "    ('rfc', RandomForestClassifier(random_state=seed))\n",
    "]\n",
    "name = \"Voting classifier (hard)\"\n",
    "vc_hard = make_pipe(VotingClassifier(estimators=est_list_hard, voting= 'hard'))\n",
    "train_and_display_stats(vc_hard, name, all_names, all_perf)\n",
    "\n",
    "# Soft voting - averages the probability score of a class between all models\n",
    "est_list_soft = [\n",
    "    ('svc_rbf', SVC(random_state=seed, probability=True)),\n",
    "\t('dtc', DecisionTreeClassifier(max_depth=3, min_samples_leaf=10, random_state=seed)),\n",
    "    ('rfc', RandomForestClassifier(random_state=seed))\n",
    "]\n",
    "name = \"Voting classifier (soft)\"\n",
    "vc_soft = make_pipe(VotingClassifier(estimators=est_list_soft, voting= 'soft'))\n",
    "train_and_display_stats(vc_soft, name, all_names, all_perf)"
   ]
  },
  {
   "cell_type": "code",
   "execution_count": 14,
   "metadata": {},
   "outputs": [
    {
     "data": {
      "image/png": "[encoded data removed]",
      "text/plain": [
       "<Figure size 1800x1000 with 1 Axes>"
      ]
     },
     "metadata": {},
     "output_type": "display_data"
    }
   ],
   "source": [
    "# print(all_names)\n",
    "# print(all_perf)\n",
    "\n",
    "x = np.arange(len(all_names))\n",
    "width = 0.25\n",
    "multiplier = 0.5\n",
    "\n",
    "fig, ax = plt.subplots(layout = 'constrained', figsize=(18, 10))\n",
    "\n",
    "for attribute, measurement in all_perf.items():\n",
    "    offset = width * multiplier\n",
    "    rects = ax.bar(x + offset, measurement, width, label = attribute)\n",
    "    ax.bar_label(rects, padding = 3)\n",
    "    multiplier +=1\n",
    "\n",
    "ax.set_ylabel('Score')\n",
    "ax.set_title('Model accuracy')\n",
    "ax.set_xticks(x + width, all_names)\n",
    "ax.legend(loc='upper left', ncols=2)\n",
    "ax.set_ylim(0, 1)\n",
    "\n",
    "plt.show()"
   ]
  }
 ],
 "metadata": {
  "kernelspec": {
   "display_name": "venv",
   "language": "python",
   "name": "python3"
  },
  "language_info": {
   "codemirror_mode": {
    "name": "ipython",
    "version": 3
   },
   "file_extension": ".py",
   "mimetype": "text/x-python",
   "name": "python",
   "nbconvert_exporter": "python",
   "pygments_lexer": "ipython3",
   "version": "3.13.1"
  }
 },
 "nbformat": 4,
 "nbformat_minor": 2
}
