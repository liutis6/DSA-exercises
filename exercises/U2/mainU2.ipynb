{
 "cells": [
  {
   "cell_type": "code",
   "execution_count": null,
   "metadata": {},
   "outputs": [],
   "source": [
    "import pandas as pd\n",
    "import numpy as np\n",
    "import matplotlib.pyplot as plt\n",
    "from sklearn.pipeline import Pipeline\n",
    "# from sklearn.impute import SimpleImputer\n",
    "from sklearn.preprocessing import StandardScaler\n",
    "from sklearn.model_selection import train_test_split\n",
    "from sklearn.metrics import classification_report\n",
    "from sklearn.metrics import f1_score, RocCurveDisplay, roc_auc_score"
   ]
  },
  {
   "cell_type": "markdown",
   "metadata": {},
   "source": [
    "# Description\n",
    "- \n",
    "\n",
    "# Data\n",
    "- https://archive.ics.uci.edu/dataset/267/banknote+authentication"
   ]
  },
  {
   "cell_type": "code",
   "execution_count": 50,
   "metadata": {},
   "outputs": [],
   "source": [
    "seed = 42\n",
    "# https://archive.ics.uci.edu/dataset/267/banknote+authentication\n",
    "df = pd.read_csv('..\\\\..\\\\data\\\\data_banknote_authentication.csv')\n",
    "\n",
    "ycols = 'class'\n",
    "xcols = [name for name in df.columns if name not in ycols]\n",
    "\n",
    "# Split data into train and test sets\n",
    "X = df[xcols]\n",
    "Y = df['class']\n",
    "X_train, X_test, Y_train, Y_test = train_test_split(X, Y, test_size=0.2, random_state=seed)\n",
    "\n",
    "all_names =[]\n",
    "all_perf = {'F1':[],\n",
    "            'AUC':[]}"
   ]
  },
  {
   "cell_type": "code",
   "execution_count": 51,
   "metadata": {},
   "outputs": [],
   "source": [
    "def get_predictions(model):\n",
    "    # train the model on the features (X) and target labels (Y)\n",
    "    model.fit(X_train, Y_train)\n",
    "    # with the trained model, take in the test values and try to predict some Y values\n",
    "    prediction = model.predict(X_test)\n",
    "    return get_table(model, prediction)\n",
    "\n",
    "#separated because of gridCV pedantics\n",
    "def get_table(model, prediction):\n",
    "    # creates a data frame with one column (\"pred\") that stores all of the predictions\n",
    "    out_df = pd.DataFrame(columns=['pred'], data=prediction)\n",
    "    # append the data frame with a new column (\"prob\") that holds the\n",
    "    # calculated probability of each value by the model\n",
    "    out_df['prob'] = model.predict_proba(X_test)[:,1]\n",
    "    return out_df\n",
    "\n",
    "all_names =[]\n",
    "all_perf = {'F1':[],\n",
    "            'AUC':[]}\n",
    "\n",
    "def evaluate(preds, name):\n",
    "    f1 = f1_score(Y_test, preds['pred'])\n",
    "    auc = roc_auc_score(Y_test, preds['prob'])\n",
    "\n",
    "    print(\"\\n\", name, \": \")\n",
    "    print(classification_report(preds['pred'], Y_test))\n",
    "    print(\"F1 = \", f1)\n",
    "    print(\"AUC = \", auc)\n",
    "\n",
    "    print()\n",
    "    all_names.append(name)\n",
    "    all_perf['F1'].append(f1)\n",
    "    all_perf['AUC'].append(auc)\n",
    "\n",
    "    # RocCurveDisplay.from_predictions(val[ycols], preds['prob'])\n",
    "    # plt.grid()\n",
    "    # plt.axis('equal')\n",
    "    # plt.show()\n",
    "\n",
    "# Prepare base pipeline with preprocessing\n",
    "numeric_transformer = Pipeline([\n",
    "    # ('imputer', SimpleImputer(strategy='mean')) - no NA values so no need\n",
    "    ('scaler', StandardScaler())\n",
    "])\n",
    "# No need for ColumnTransformer as all data is numeric"
   ]
  },
  {
   "cell_type": "code",
   "execution_count": 52,
   "metadata": {},
   "outputs": [
    {
     "name": "stdout",
     "output_type": "stream",
     "text": [
      "\n",
      " Random forest classifier : \n",
      "              precision    recall  f1-score   support\n",
      "\n",
      "           0       0.99      0.99      0.99       149\n",
      "           1       0.98      0.99      0.99       126\n",
      "\n",
      "    accuracy                           0.99       275\n",
      "   macro avg       0.99      0.99      0.99       275\n",
      "weighted avg       0.99      0.99      0.99       275\n",
      "\n",
      "F1 =  0.9881422924901185\n",
      "AUC =  0.9992019578633752\n",
      "\n"
     ]
    }
   ],
   "source": [
    "from sklearn.ensemble import RandomForestClassifier\n",
    "rf = Pipeline([\n",
    "    ('pre', numeric_transformer),\n",
    "    ('model', RandomForestClassifier(n_estimators=100,\n",
    "                                     min_samples_split=20,\n",
    "                                     min_samples_leaf=5,\n",
    "                                     n_jobs=1))\n",
    "])\n",
    "name = 'Random forest classifier'\n",
    "evaluate(get_predictions(rf), name)"
   ]
  },
  {
   "cell_type": "code",
   "execution_count": 53,
   "metadata": {},
   "outputs": [
    {
     "name": "stdout",
     "output_type": "stream",
     "text": [
      "\n",
      " Logistic regression : \n",
      "              precision    recall  f1-score   support\n",
      "\n",
      "           0       0.97      0.99      0.98       146\n",
      "           1       0.98      0.97      0.98       129\n",
      "\n",
      "    accuracy                           0.98       275\n",
      "   macro avg       0.98      0.98      0.98       275\n",
      "weighted avg       0.98      0.98      0.98       275\n",
      "\n",
      "F1 =  0.9765625\n",
      "AUC =  0.9994679719089169\n",
      "\n"
     ]
    }
   ],
   "source": [
    "from sklearn.linear_model import LogisticRegression\n",
    "lr = Pipeline([\n",
    "    ('pre', numeric_transformer),\n",
    "    ('model', LogisticRegression(random_state=seed, intercept_scaling=0.5, max_iter=10000))\n",
    "])\n",
    "name = 'Logistic regression'\n",
    "evaluate(get_predictions(lr), name)"
   ]
  },
  {
   "cell_type": "code",
   "execution_count": 54,
   "metadata": {},
   "outputs": [
    {
     "name": "stdout",
     "output_type": "stream",
     "text": [
      "\n",
      " Decision tree classifier : \n",
      "              precision    recall  f1-score   support\n",
      "\n",
      "           0       0.94      0.88      0.91       158\n",
      "           1       0.85      0.92      0.89       117\n",
      "\n",
      "    accuracy                           0.90       275\n",
      "   macro avg       0.89      0.90      0.90       275\n",
      "weighted avg       0.90      0.90      0.90       275\n",
      "\n",
      "F1 =  0.8852459016393442\n",
      "AUC =  0.9616673760374548\n",
      "\n"
     ]
    }
   ],
   "source": [
    "from sklearn.tree import DecisionTreeClassifier\n",
    "dtc = Pipeline([\n",
    "    ('pre', numeric_transformer),\n",
    "    ('model', DecisionTreeClassifier(max_depth=3, min_samples_leaf=10, random_state=seed))\n",
    "])\n",
    "name = \"Decision tree classifier\"\n",
    "evaluate(get_predictions(dtc), name)"
   ]
  },
  {
   "cell_type": "code",
   "execution_count": 55,
   "metadata": {},
   "outputs": [
    {
     "name": "stdout",
     "output_type": "stream",
     "text": [
      "\n",
      " SVM found with GS : \n",
      "              precision    recall  f1-score   support\n",
      "\n",
      "           0       1.00      1.00      1.00       148\n",
      "           1       1.00      1.00      1.00       127\n",
      "\n",
      "    accuracy                           1.00       275\n",
      "   macro avg       1.00      1.00      1.00       275\n",
      "weighted avg       1.00      1.00      1.00       275\n",
      "\n",
      "F1 =  1.0\n",
      "AUC =  1.0\n",
      "\n"
     ]
    }
   ],
   "source": [
    "from sklearn.svm import SVC\n",
    "from sklearn.model_selection import GridSearchCV\n",
    "parameters = {'kernel':['rbf', 'poly', 'linear'],\n",
    "            'C':[0.1, 1, 10], 'gamma':[1, 0.1, 0.001]}\n",
    "name = \"SVM found with GS\"\n",
    "gs_svm = Pipeline([\n",
    "    ('pre', numeric_transformer),\n",
    "    ('SVM', GridSearchCV(estimator=SVC(probability=True), param_grid=parameters, scoring='roc_auc'))\n",
    "])\n",
    "evaluate(get_predictions(gs_svm), name)"
   ]
  },
  {
   "cell_type": "code",
   "execution_count": null,
   "metadata": {},
   "outputs": [],
   "source": [
    "from sklearn.ensemble import VotingClassifier\n",
    "models = []\n",
    "name = \"Ensemble (hard)\"\n"
   ]
  },
  {
   "cell_type": "code",
   "execution_count": 61,
   "metadata": {},
   "outputs": [
    {
     "data": {
      "image/png": "[encoded data removed]",
      "text/plain": [
       "<Figure size 1000x500 with 1 Axes>"
      ]
     },
     "metadata": {},
     "output_type": "display_data"
    }
   ],
   "source": [
    "x = np.arange(len(all_names))\n",
    "width = 0.25\n",
    "multiplier = 0.5\n",
    "\n",
    "fig, ax = plt.subplots(layout = 'constrained', figsize = (10, 5))\n",
    "\n",
    "for attribute, measurement in all_perf.items():\n",
    "    offset = width * multiplier\n",
    "    rects = ax.bar(x + offset, measurement, width, label = attribute)\n",
    "    ax.bar_label(rects, padding = 3)\n",
    "    multiplier +=1\n",
    "\n",
    "ax.set_ylabel('Score')\n",
    "ax.set_title('Model accuracy')\n",
    "ax.set_xticks(x + width, all_names)\n",
    "ax.legend(loc='upper left', ncols=2)\n",
    "ax.set_ylim(0, 1)\n",
    "\n",
    "plt.show()"
   ]
  }
 ],
 "metadata": {
  "kernelspec": {
   "display_name": "venv",
   "language": "python",
   "name": "python3"
  },
  "language_info": {
   "codemirror_mode": {
    "name": "ipython",
    "version": 3
   },
   "file_extension": ".py",
   "mimetype": "text/x-python",
   "name": "python",
   "nbconvert_exporter": "python",
   "pygments_lexer": "ipython3",
   "version": "3.13.1"
  }
 },
 "nbformat": 4,
 "nbformat_minor": 2
}
