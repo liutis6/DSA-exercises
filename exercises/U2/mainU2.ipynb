{
 "cells": [
  {
   "cell_type": "code",
   "execution_count": 4,
   "metadata": {},
   "outputs": [],
   "source": [
    "import pandas as pd\n",
    "import numpy as np\n",
    "import matplotlib.pyplot as plt\n",
    "from sklearn.pipeline import Pipeline\n",
    "# from sklearn.impute import SimpleImputer\n",
    "from sklearn.preprocessing import StandardScaler\n",
    "from sklearn.model_selection import train_test_split\n",
    "from sklearn.metrics import classification_report\n",
    "from sklearn.ensemble import RandomForestClassifier, VotingClassifier\n",
    "from sklearn.metrics import f1_score, RocCurveDisplay, roc_auc_score"
   ]
  },
  {
   "cell_type": "code",
   "execution_count": 5,
   "metadata": {},
   "outputs": [],
   "source": [
    "seed = 42\n",
    "# https://archive.ics.uci.edu/dataset/267/banknote+authentication\n",
    "df = pd.read_csv('..\\\\..\\\\data\\\\data_banknote_authentication.csv')\n",
    "\n",
    "ycols = 'class'\n",
    "xcols = [name for name in df.columns if name not in ycols]\n",
    "\n",
    "# Split data into test, split and validation sets\n",
    "Y = df['class']\n",
    "features = [name for name in df.columns if name not in ['class']]\n",
    "X = df[features]\n",
    "X_train, X_test, Y_train, Y_test = train_test_split(X, Y, test_size=0.2, random_state=seed)\n",
    "\n",
    "all_names =[]\n",
    "all_perf = {'F1':[],\n",
    "            'AUC':[]}"
   ]
  },
  {
   "cell_type": "code",
   "execution_count": 6,
   "metadata": {},
   "outputs": [],
   "source": [
    "def get_predictions(model):\n",
    "    model.fit(X_train, Y_train)\n",
    "    prediction = model.predict(X_test)\n",
    "    out_df = pd.DataFrame(columns=['pred'], data=prediction)\n",
    "    out_df['prob'] = model.predict_proba(X_test[:,1])\n",
    "    return out_df\n",
    "\n",
    "\n",
    "def train_and_display(preds, name):\n",
    "    f1 = f1_score(Y_test, preds['pred'])\n",
    "    auc = roc_auc_score(Y_test, preds['prob'])\n",
    "\n",
    "    print(\"\\n\", name, \": \")\n",
    "    print(classification_report(preds['pred'], Y_test))\n",
    "    print(\"F1 = \", f1)\n",
    "    print(\"AUC = \", auc)\n",
    "\n",
    "    print()\n",
    "    all_names.append(name)\n",
    "    all_perf['F1'].append(f1)\n",
    "    all_perf['AUC'].append(auc)\n",
    "\n",
    "    # RocCurveDisplay.from_predictions(val[ycols], preds['prob'])\n",
    "    # plt.grid()\n",
    "    # plt.axis('equal')\n",
    "    # plt.show()\n",
    "\n",
    "def final_test(model, name):\n",
    "    test_preds = model.predict(test[xcols])\n",
    "\n",
    "    print(\"\\n----------TESTING DATA---------\\n\", name, \": \")\n",
    "    f1 = f1_score([i == 0 for i in Y_test.values], [i == 0 for i in test_preds])\n",
    "    auc = roc_auc_score(Y_test, test_preds)\n",
    "    print(\"F1 = \", f1)\n",
    "    print(\"AUC = \", auc)\n",
    "\n",
    "# Prepare base pipeline with preprocessing\n",
    "numeric_transformer = Pipeline([\n",
    "    # ('imputer', SimpleImputer(strategy='mean')) - no NA values so no need\n",
    "    ('scaler', StandardScaler())\n",
    "])\n",
    "# No need for ColumnTransformer as all data is numeric"
   ]
  },
  {
   "cell_type": "code",
   "execution_count": 7,
   "metadata": {},
   "outputs": [
    {
     "ename": "KeyError",
     "evalue": "'pred'",
     "output_type": "error",
     "traceback": [
      "\u001b[1;31m---------------------------------------------------------------------------\u001b[0m",
      "\u001b[1;31mTypeError\u001b[0m                                 Traceback (most recent call last)",
      "File \u001b[1;32mc:\\Users\\liutis\\Desktop\\uni\\DSA\\venv\\Lib\\site-packages\\sklearn\\pipeline.py:401\u001b[0m, in \u001b[0;36mPipeline.__getitem__\u001b[1;34m(self, ind)\u001b[0m\n\u001b[0;32m    400\u001b[0m \u001b[38;5;28;01mtry\u001b[39;00m:\n\u001b[1;32m--> 401\u001b[0m     name, est \u001b[38;5;241m=\u001b[39m \u001b[38;5;28;43mself\u001b[39;49m\u001b[38;5;241;43m.\u001b[39;49m\u001b[43msteps\u001b[49m\u001b[43m[\u001b[49m\u001b[43mind\u001b[49m\u001b[43m]\u001b[49m\n\u001b[0;32m    402\u001b[0m \u001b[38;5;28;01mexcept\u001b[39;00m \u001b[38;5;167;01mTypeError\u001b[39;00m:\n\u001b[0;32m    403\u001b[0m     \u001b[38;5;66;03m# Not an int, try get step by name\u001b[39;00m\n",
      "\u001b[1;31mTypeError\u001b[0m: list indices must be integers or slices, not str",
      "\nDuring handling of the above exception, another exception occurred:\n",
      "\u001b[1;31mKeyError\u001b[0m                                  Traceback (most recent call last)",
      "Cell \u001b[1;32mIn[7], line 10\u001b[0m\n\u001b[0;32m      2\u001b[0m rf \u001b[38;5;241m=\u001b[39m Pipeline([\n\u001b[0;32m      3\u001b[0m     (\u001b[38;5;124m'\u001b[39m\u001b[38;5;124mpre\u001b[39m\u001b[38;5;124m'\u001b[39m, numeric_transformer),\n\u001b[0;32m      4\u001b[0m     (\u001b[38;5;124m'\u001b[39m\u001b[38;5;124mmodel\u001b[39m\u001b[38;5;124m'\u001b[39m, RandomForestClassifier(n_estimators\u001b[38;5;241m=\u001b[39m\u001b[38;5;241m100\u001b[39m,\n\u001b[1;32m   (...)\u001b[0m\n\u001b[0;32m      7\u001b[0m                                      n_jobs\u001b[38;5;241m=\u001b[39m\u001b[38;5;241m1\u001b[39m))\n\u001b[0;32m      8\u001b[0m ])\n\u001b[0;32m      9\u001b[0m name \u001b[38;5;241m=\u001b[39m \u001b[38;5;124m'\u001b[39m\u001b[38;5;124mRandom forest classifier\u001b[39m\u001b[38;5;124m'\u001b[39m\n\u001b[1;32m---> 10\u001b[0m \u001b[43mtrain_and_display\u001b[49m\u001b[43m(\u001b[49m\u001b[43mrf\u001b[49m\u001b[43m,\u001b[49m\u001b[43m \u001b[49m\u001b[43mname\u001b[49m\u001b[43m)\u001b[49m\n",
      "Cell \u001b[1;32mIn[6], line 10\u001b[0m, in \u001b[0;36mtrain_and_display\u001b[1;34m(preds, name)\u001b[0m\n\u001b[0;32m      9\u001b[0m \u001b[38;5;28;01mdef\u001b[39;00m\u001b[38;5;250m \u001b[39m\u001b[38;5;21mtrain_and_display\u001b[39m(preds, name):\n\u001b[1;32m---> 10\u001b[0m     f1 \u001b[38;5;241m=\u001b[39m f1_score(Y_test, \u001b[43mpreds\u001b[49m\u001b[43m[\u001b[49m\u001b[38;5;124;43m'\u001b[39;49m\u001b[38;5;124;43mpred\u001b[39;49m\u001b[38;5;124;43m'\u001b[39;49m\u001b[43m]\u001b[49m)\n\u001b[0;32m     11\u001b[0m     auc \u001b[38;5;241m=\u001b[39m roc_auc_score(Y_test, preds[\u001b[38;5;124m'\u001b[39m\u001b[38;5;124mprob\u001b[39m\u001b[38;5;124m'\u001b[39m])\n\u001b[0;32m     13\u001b[0m     \u001b[38;5;28mprint\u001b[39m(\u001b[38;5;124m\"\u001b[39m\u001b[38;5;130;01m\\n\u001b[39;00m\u001b[38;5;124m\"\u001b[39m, name, \u001b[38;5;124m\"\u001b[39m\u001b[38;5;124m: \u001b[39m\u001b[38;5;124m\"\u001b[39m)\n",
      "File \u001b[1;32mc:\\Users\\liutis\\Desktop\\uni\\DSA\\venv\\Lib\\site-packages\\sklearn\\pipeline.py:404\u001b[0m, in \u001b[0;36mPipeline.__getitem__\u001b[1;34m(self, ind)\u001b[0m\n\u001b[0;32m    401\u001b[0m     name, est \u001b[38;5;241m=\u001b[39m \u001b[38;5;28mself\u001b[39m\u001b[38;5;241m.\u001b[39msteps[ind]\n\u001b[0;32m    402\u001b[0m \u001b[38;5;28;01mexcept\u001b[39;00m \u001b[38;5;167;01mTypeError\u001b[39;00m:\n\u001b[0;32m    403\u001b[0m     \u001b[38;5;66;03m# Not an int, try get step by name\u001b[39;00m\n\u001b[1;32m--> 404\u001b[0m     \u001b[38;5;28;01mreturn\u001b[39;00m \u001b[38;5;28;43mself\u001b[39;49m\u001b[38;5;241;43m.\u001b[39;49m\u001b[43mnamed_steps\u001b[49m\u001b[43m[\u001b[49m\u001b[43mind\u001b[49m\u001b[43m]\u001b[49m\n\u001b[0;32m    405\u001b[0m \u001b[38;5;28;01mreturn\u001b[39;00m est\n",
      "File \u001b[1;32mc:\\Users\\liutis\\Desktop\\uni\\DSA\\venv\\Lib\\site-packages\\sklearn\\utils\\_bunch.py:42\u001b[0m, in \u001b[0;36mBunch.__getitem__\u001b[1;34m(self, key)\u001b[0m\n\u001b[0;32m     37\u001b[0m \u001b[38;5;28;01mif\u001b[39;00m key \u001b[38;5;129;01min\u001b[39;00m \u001b[38;5;28mself\u001b[39m\u001b[38;5;241m.\u001b[39m\u001b[38;5;18m__dict__\u001b[39m\u001b[38;5;241m.\u001b[39mget(\u001b[38;5;124m\"\u001b[39m\u001b[38;5;124m_deprecated_key_to_warnings\u001b[39m\u001b[38;5;124m\"\u001b[39m, {}):\n\u001b[0;32m     38\u001b[0m     warnings\u001b[38;5;241m.\u001b[39mwarn(\n\u001b[0;32m     39\u001b[0m         \u001b[38;5;28mself\u001b[39m\u001b[38;5;241m.\u001b[39m_deprecated_key_to_warnings[key],\n\u001b[0;32m     40\u001b[0m         \u001b[38;5;167;01mFutureWarning\u001b[39;00m,\n\u001b[0;32m     41\u001b[0m     )\n\u001b[1;32m---> 42\u001b[0m \u001b[38;5;28;01mreturn\u001b[39;00m \u001b[38;5;28;43msuper\u001b[39;49m\u001b[43m(\u001b[49m\u001b[43m)\u001b[49m\u001b[38;5;241;43m.\u001b[39;49m\u001b[38;5;21;43m__getitem__\u001b[39;49m\u001b[43m(\u001b[49m\u001b[43mkey\u001b[49m\u001b[43m)\u001b[49m\n",
      "\u001b[1;31mKeyError\u001b[0m: 'pred'"
     ]
    }
   ],
   "source": [
    "from sklearn.ensemble import RandomForestClassifier\n",
    "rf = Pipeline([\n",
    "    ('pre', numeric_transformer),\n",
    "    ('model', RandomForestClassifier(n_estimators=100,\n",
    "                                     min_samples_split=20,\n",
    "                                     min_samples_leaf=5,\n",
    "                                     n_jobs=1))\n",
    "])\n",
    "name = 'Random forest classifier'\n",
    "train_and_display(rf, name)"
   ]
  },
  {
   "cell_type": "code",
   "execution_count": null,
   "metadata": {},
   "outputs": [],
   "source": [
    "from sklearn.linear_model import LogisticRegression\n",
    "lr = Pipeline([\n",
    "    ('pre', numeric_transformer),\n",
    "    ('model', LogisticRegression(random_state=seed, intercept_scaling=0.5, max_iter=10000))\n",
    "])\n",
    "name = 'Logistic regression'\n",
    "train_and_display(lr, name)"
   ]
  },
  {
   "cell_type": "code",
   "execution_count": null,
   "metadata": {},
   "outputs": [],
   "source": [
    "from sklearn.tree import DecisionTreeClassifier\n",
    "dtc = Pipeline([\n",
    "    ('pre', numeric_transformer),\n",
    "    ('model', DecisionTreeClassifier(max_depth=3, min_samples_leaf=10, random_state=seed))\n",
    "])\n",
    "name = \"Decision tree classifier\"\n",
    "train_and_display(dtc, name)"
   ]
  },
  {
   "cell_type": "code",
   "execution_count": null,
   "metadata": {},
   "outputs": [],
   "source": [
    "from sklearn.svm import SVC\n",
    "from sklearn.model_selection import GridSearchCV\n",
    "parameters = {'kernel':['rbf', 'poly', 'linear'],\n",
    "            'C':[0.1, 1, 10], 'gamma':[1, 0.1, 0.001]}\n",
    "name = \"SVM found with GS\"\n",
    "gs_svm = Pipeline([\n",
    "    ('pre', numeric_transformer),\n",
    "    ('SVM', GridSearchCV(SVC(), parameters))\n",
    "])\n",
    "train_and_display(gs_svm, name)"
   ]
  },
  {
   "cell_type": "code",
   "execution_count": null,
   "metadata": {},
   "outputs": [],
   "source": [
    "final_test(gs_svm, name)"
   ]
  },
  {
   "cell_type": "code",
   "execution_count": null,
   "metadata": {},
   "outputs": [],
   "source": [
    "x = np.arange(len(all_names))\n",
    "width = 0.25\n",
    "multiplier = 0.5\n",
    "\n",
    "fig, ax = plt.subplots(layout = 'constrained')\n",
    "\n",
    "for attribute, measurement in all_perf.items():\n",
    "    offset = width * multiplier\n",
    "    rects = ax.bar(x + offset, measurement, width, label = attribute)\n",
    "    ax.bar_label(rects, padding = 3)\n",
    "    multiplier +=1\n",
    "\n",
    "ax.set_ylabel('Score')\n",
    "ax.set_title('Model accuracy')\n",
    "ax.set_xticks(x + width, all_names)\n",
    "ax.legend(loc='upper left', ncols=2)\n",
    "ax.set_ylim(0, 1)\n",
    "\n",
    "plt.show()"
   ]
  }
 ],
 "metadata": {
  "kernelspec": {
   "display_name": "venv",
   "language": "python",
   "name": "python3"
  },
  "language_info": {
   "codemirror_mode": {
    "name": "ipython",
    "version": 3
   },
   "file_extension": ".py",
   "mimetype": "text/x-python",
   "name": "python",
   "nbconvert_exporter": "python",
   "pygments_lexer": "ipython3",
   "version": "3.13.1"
  }
 },
 "nbformat": 4,
 "nbformat_minor": 2
}
